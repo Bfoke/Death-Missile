{
 "cells": [
  {
   "cell_type": "code",
   "execution_count": 1,
   "id": "e358974d",
   "metadata": {},
   "outputs": [],
   "source": [
    "import pandas as pd\n",
    "import numpy as np"
   ]
  },
  {
   "cell_type": "code",
   "execution_count": 10,
   "id": "fdfbc9ee",
   "metadata": {},
   "outputs": [],
   "source": [
    "cbr1krr = pd.read_csv('cbr1kr.csv')\n",
    "hayabusa = pd.read_csv('hayabusa.csv')\n",
    "\n",
    "cbr = cbr1krr.to_numpy()\n",
    "haya = hayabusa.to_numpy()\n",
    "\n",
    "cbr_radsec_Nm = cbr[:,[1,4]]"
   ]
  },
  {
   "cell_type": "code",
   "execution_count": null,
   "id": "4257d1e9",
   "metadata": {},
   "outputs": [],
   "source": [
    "# constants\n",
    "mass = 500 #kg\n",
    "wheel_rad = .3 #m\n",
    "rear_weight = .55 #fraction out of 1\n",
    "tire_mu = 1\n",
    "time_step = .05 #sec\n"
   ]
  },
  {
   "cell_type": "code",
   "execution_count": null,
   "id": "205b3cc4",
   "metadata": {},
   "outputs": [],
   "source": [
    "#accel calc\n",
    "time = np.linspace(0,15,1500)\n",
    "vel = np.zeros_like(time)\n",
    "\n"
   ]
  }
 ],
 "metadata": {
  "kernelspec": {
   "display_name": "Python 3",
   "language": "python",
   "name": "python3"
  },
  "language_info": {
   "codemirror_mode": {
    "name": "ipython",
    "version": 3
   },
   "file_extension": ".py",
   "mimetype": "text/x-python",
   "name": "python",
   "nbconvert_exporter": "python",
   "pygments_lexer": "ipython3",
   "version": "3.12.0"
  }
 },
 "nbformat": 4,
 "nbformat_minor": 5
}
