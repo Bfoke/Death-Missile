{
 "cells": [
  {
   "cell_type": "code",
   "execution_count": 1,
   "id": "e358974d",
   "metadata": {},
   "outputs": [],
   "source": [
    "import pandas as pd\n",
    "import numpy as np\n",
    "import matplotlib.pyplot as plt"
   ]
  },
  {
   "cell_type": "code",
   "execution_count": 2,
   "id": "fdfbc9ee",
   "metadata": {},
   "outputs": [],
   "source": [
    "cbr1krr = pd.read_csv('cbr1kr.csv')\n",
    "hayabusa = pd.read_csv('hayabusa.csv')\n",
    "\n",
    "cbr = cbr1krr.to_numpy()\n",
    "haya = hayabusa.to_numpy()\n",
    "\n",
    "cbr_rpm_Nm = cbr[:,[0,4]]"
   ]
  },
  {
   "cell_type": "code",
   "execution_count": null,
   "id": "4257d1e9",
   "metadata": {},
   "outputs": [],
   "source": [
    "# constants\n",
    "mass = 500 #kg\n",
    "wheel_rad = .3 #m\n",
    "rear_weight = .55 #fraction out of 1\n",
    "tire_mu = 1\n",
    "final_drive = 8\n",
    "CG_height = .4 #m\n",
    "Coef_drag = .4\n",
    "frontal_A = 6 #m^2\n",
    "Rho = 1.204 # kg/m^3\n",
    "wheel_base = 1.8 #m\n",
    "\n",
    "cbr_gears = np.array([2.286, 1.778, 1.5, 1.333, 1.214, 1.138])\n",
    "gear = cbr_gears\n"
   ]
  },
  {
   "cell_type": "code",
   "execution_count": 4,
   "id": "f1238145",
   "metadata": {},
   "outputs": [
    {
     "data": {
      "text/plain": [
       "[<matplotlib.lines.Line2D at 0x122272d50>]"
      ]
     },
     "execution_count": 4,
     "metadata": {},
     "output_type": "execute_result"
    },
    {
     "data": {
      "image/png": "[encoded data removed]",
      "text/plain": [
       "<Figure size 640x480 with 1 Axes>"
      ]
     },
     "metadata": {},
     "output_type": "display_data"
    }
   ],
   "source": [
    "top_speed_mph = 100\n",
    "top_speed_mps = top_speed_mph * .44704 #conversion from mph to m/s\n",
    "\n",
    "final_drive_ratios = np.linspace(1,8,80)\n",
    "top_speed_rpm = np.zeros_like(final_drive_ratios)\n",
    "\n",
    "for fd_idx, fd_val in enumerate(final_drive_ratios):\n",
    "    top_speed_rpm[fd_idx] = top_speed_mps / (2 * np.pi * wheel_rad) * fd_val * gear[5] * 60\n",
    "\n",
    "plt.plot(final_drive_ratios, top_speed_rpm)"
   ]
  },
  {
   "cell_type": "code",
   "execution_count": null,
   "id": "1800866f",
   "metadata": {},
   "outputs": [],
   "source": [
    "def final_drive_for_top_speed(top_speed_mph):\n",
    "    top_speed_mps = top_speed_mph * .44704\n",
    "    final_drive_ratio = 13000 / 60 / gear[5] * .6 * np.pi / top_speed_mps\n",
    "    return final_drive_ratio\n",
    "\n",
    "def top_speed_for_final_drive(final_drive): # mph\n",
    "    return 13000 / final_drive / gear[5] / 60 * .6 * np.pi / .44704\n",
    "\n",
    "def rpm_for_speed_gear(speed, g): #m/s and an int 0 - 5 for 1 - 6 gears\n",
    "    final_drive = 8\n",
    "    return speed / (.6 * np.pi) * final_drive * gear[g] * 60\n",
    "\n",
    "def thrust(t, g, FD = final_drive, WR = wheel_rad):\n",
    "    return t * gear[g] * FD / WR\n",
    "\n",
    "def drag(v, rho = Rho, FA = frontal_A, Cd = Coef_drag):\n",
    "    return (v**2) * rho * Cd * FA / 2\n",
    "\n",
    "def rear_tire_NL(accel, CG = CG_height, m = mass, wb = wheel_base):\n",
    "    return (m * CG) / wb * accel\n",
    "\n"
   ]
  },
  {
   "cell_type": "code",
   "execution_count": null,
   "id": "f8253d52",
   "metadata": {},
   "outputs": [],
   "source": [
    "#accel calc\n",
    "time = np.linspace(0,60,6001)\n",
    "dt = .01 #sec\n",
    "vel = np.zeros_like(time)\n",
    "rpm = np.zeros_like(time)\n",
    "torque = np.zeros_like(time)\n",
    "thrust = np.zeros_like(time)\n",
    "drag = np.zeros_like(time)\n",
    "rear_NL = np.zeros_like(time)\n",
    "accel = np.zeros_like(time)\n",
    "\n",
    "g = 0 # first gear 0 indexed\n",
    "shift_rpm = 11000\n",
    "time_since_shift = 1 #sec, not 0 bc dont want to set 0 torque from launch\n",
    "shift_time = .2\n",
    "launch_rpm = 7000\n",
    "\n",
    "for i, t in enumerate(time):\n",
    "    rpm[i] = rpm_for_speed_gear(vel[i], g)\n",
    "    \n",
    "    if rpm[i] > shift_rpm and (g < 5):\n",
    "        g += 1\n",
    "        time_since_shift = 0\n",
    "    if time_since_shift < shift_time:\n",
    "        torque[i] = 0\n",
    "    else:\n",
    "        torque[i] = np.interp(rpm[i], cbr_rpm_Nm[:,0], cbr_rpm_Nm[:,1])\n",
    "\n",
    "    if (rpm[i] < launch_rpm) and g == 0:\n",
    "        torque[i] = np.interp(launch_rpm, cbr_rpm_Nm[:,0], cbr_rpm_Nm[:,1])\n",
    "\n",
    "    thrust[i] = thrust(torque[i], g)\n",
    "    drag[i] = drag(vel[i])\n",
    "    rear_NL[i] = rear_tire_NL()\n",
    "    time_since_shift += dt\n"
   ]
  },
  {
   "cell_type": "code",
   "execution_count": null,
   "id": "9a6e54e3",
   "metadata": {},
   "outputs": [],
   "source": []
  }
 ],
 "metadata": {
  "kernelspec": {
   "display_name": ".venv",
   "language": "python",
   "name": "python3"
  },
  "language_info": {
   "codemirror_mode": {
    "name": "ipython",
    "version": 3
   },
   "file_extension": ".py",
   "mimetype": "text/x-python",
   "name": "python",
   "nbconvert_exporter": "python",
   "pygments_lexer": "ipython3",
   "version": "3.13.3"
  }
 },
 "nbformat": 4,
 "nbformat_minor": 5
}
