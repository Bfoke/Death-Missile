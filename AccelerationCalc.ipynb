{
 "cells": [
  {
   "cell_type": "code",
   "execution_count": 4,
   "id": "e358974d",
   "metadata": {},
   "outputs": [],
   "source": [
    "import pandas as pd\n",
    "import numpy as np"
   ]
  },
  {
   "cell_type": "code",
   "execution_count": 5,
   "id": "fdfbc9ee",
   "metadata": {},
   "outputs": [],
   "source": [
    "cbr1krr = pd.read_csv('cbr1kr.csv')\n",
    "hayabusa = pd.read_csv('hayabusa.csv')\n",
    "\n",
    "cbr = cbr1krr.to_numpy()\n",
    "haya = hayabusa.to_numpy()\n",
    "\n",
    "cbr_radsec_Nm = cbr[:,[1,4]]"
   ]
  },
  {
   "cell_type": "code",
   "execution_count": null,
   "id": "4257d1e9",
   "metadata": {},
   "outputs": [],
   "source": [
    "# constants\n",
    "mass = 500 #kg\n",
    "wheel_rad = .3 #m\n",
    "rear_weight = .55 #fraction out of 1\n",
    "tire_mu = 1\n",
    "final_drive = 3\n",
    "\n",
    "cbr_gears = np.array[2.286, 1.778, 1.5, 1.333, 1.214, 1.138]\n",
    "\n"
   ]
  },
  {
   "cell_type": "code",
   "execution_count": null,
   "id": "205b3cc4",
   "metadata": {},
   "outputs": [],
   "source": [
    "#accel calc\n",
    "time = np.linspace(0,60,600)\n",
    "vel = np.zeros_like(time)\n",
    "rpm = np.zeros_like(time)\n",
    "gear = 0\n",
    "for i, t in enumerate(time):\n",
    "    rpm = vel\n",
    "\n"
   ]
  }
 ],
 "metadata": {
  "kernelspec": {
   "display_name": ".venv",
   "language": "python",
   "name": "python3"
  },
  "language_info": {
   "codemirror_mode": {
    "name": "ipython",
    "version": 3
   },
   "file_extension": ".py",
   "mimetype": "text/x-python",
   "name": "python",
   "nbconvert_exporter": "python",
   "pygments_lexer": "ipython3",
   "version": "3.13.3"
  }
 },
 "nbformat": 4,
 "nbformat_minor": 5
}
