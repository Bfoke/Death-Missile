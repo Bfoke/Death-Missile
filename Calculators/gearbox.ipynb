{
 "cells": [
  {
   "cell_type": "code",
   "execution_count": 16,
   "id": "a202f161",
   "metadata": {},
   "outputs": [],
   "source": [
    "import numpy as np\n",
    "import scipy as sci"
   ]
  },
  {
   "cell_type": "code",
   "execution_count": null,
   "id": "69bd320e",
   "metadata": {},
   "outputs": [
    {
     "name": "stdout",
     "output_type": "stream",
     "text": [
      "[41.93548387 88.06451613 61.9047619  68.0952381 ]\n"
     ]
    }
   ],
   "source": [
    "# 25 tooth output\n",
    "ratio1 = 2.1\n",
    "ratio2 = 1.1\n",
    "ratio_matrix = np.array([[ratio1, -1, 0, 0], [0, 0, ratio2, -1], [.5, .5, 0, 0], [0, 0, .5, .5]])\n",
    "\n",
    "shaft_distance = 65 #mm\n",
    "shaft_distance_matrix = np.array([0, 0, shaft_distance, shaft_distance])\n",
    "\n",
    "gear_diameters = np.linalg.solve(ratio_matrix, shaft_distance_matrix)\n",
    "# gear_diameters is input1, output1, input2, output2 in same units as shaft distance\n",
    "print(gear_diameters)"
   ]
  },
  {
   "cell_type": "code",
   "execution_count": 18,
   "id": "7ca32982",
   "metadata": {},
   "outputs": [
    {
     "name": "stdout",
     "output_type": "stream",
     "text": [
      "[44.44444444 75.55555556 63.15789474 56.84210526]\n"
     ]
    }
   ],
   "source": [
    "# 21 tooth output\n",
    "ratio1 = 1.7\n",
    "ratio2 = .9\n",
    "ratio_matrix = np.array([[ratio1, -1, 0, 0], [0, 0, ratio2, -1], [.5, .5, 0, 0], [0, 0, .5, .5]])\n",
    "\n",
    "shaft_distance = 60 #mm \n",
    "shaft_distance_matrix = np.array([0, 0, shaft_distance, shaft_distance])\n",
    "\n",
    "gear_diameters = np.linalg.solve(ratio_matrix, shaft_distance_matrix)\n",
    "# gear_diameters is input1, output1, input2, output2 in same units as shaft distance\n",
    "print(gear_diameters)"
   ]
  },
  {
   "cell_type": "code",
   "execution_count": null,
   "id": "d15f2db7",
   "metadata": {},
   "outputs": [
    {
     "name": "stdout",
     "output_type": "stream",
     "text": [
      "[16.         36.         23.11111111 28.88888889]\n"
     ]
    }
   ],
   "source": [
    "# teeth calcs\n",
    "\n",
    "#parameters\n",
    "target_ratio_1 = 1.75\n",
    "target_ratio_2 = .9\n",
    "\n",
    "#constraints\n",
    "Ni1 = 16\n",
    "# all teeth numbers in order Ni1, N01, Ni2, No2, must be integers\n",
    "\n",
    "#teeth numbers found with this equation\n",
    "teeth_ratio_matrix = np.array([[1, 1, -1, -1], [target_ratio_1, -1, 0, 0], [0, 0, target_ratio_2, -1], [1, 0, 0, 0]])\n",
    "b = np.array([0, 0, 0, Ni1])\n",
    "teeth = np.linalg.solve(teeth_ratio_matrix, b)\n",
    "\n",
    "def loss(ratio1, ratio2, target_ratio1, target_ratio2):\n",
    "    return np.linalg.norm(ratio1-target_ratio1) + np.linalg.norm(ratio2-target_ratio2)\n"
   ]
  },
  {
   "cell_type": "code",
   "execution_count": 3,
   "id": "e519a319",
   "metadata": {},
   "outputs": [
    {
     "name": "stdout",
     "output_type": "stream",
     "text": [
      "Best solution: Ni1=20, No1=42, Ni2=30, No2=32\n",
      "Ratios: 2.1000, 1.0667\n",
      "Loss: 0.033333\n",
      "axle distance: 46.5\n"
     ]
    }
   ],
   "source": [
    "# teeth numbers given ratios\n",
    "\n",
    "#module\n",
    "m = 1.5\n",
    "\n",
    "# Target ratios\n",
    "target_ratio_1 = 2.1\n",
    "target_ratio_2 = 1.1\n",
    "\n",
    "# Fixed value\n",
    "Ni1 = 20\n",
    "\n",
    "# Search range\n",
    "search_range = range(10, 100)\n",
    "\n",
    "best_loss = float('inf')\n",
    "best_solution = None\n",
    "\n",
    "for No1 in search_range:\n",
    "    ratio1 = No1 / Ni1\n",
    "    for Ni2 in search_range:\n",
    "        for No2 in search_range:\n",
    "            # Gear train constraint: Ni1 + No1 == Ni2 + No2\n",
    "            if Ni1 + No1 != Ni2 + No2:\n",
    "                continue\n",
    "\n",
    "            ratio2 = No2 / Ni2\n",
    "            loss = abs(ratio1 - target_ratio_1) + abs(ratio2 - target_ratio_2)\n",
    "            if loss < best_loss:\n",
    "                best_loss = loss\n",
    "                best_solution = (Ni1, No1, Ni2, No2)\n",
    "\n",
    "print(f\"Best solution: Ni1={best_solution[0]}, No1={best_solution[1]}, Ni2={best_solution[2]}, No2={best_solution[3]}\")\n",
    "print(f\"Ratios: {best_solution[1]/best_solution[0]:.4f}, {best_solution[3]/best_solution[2]:.4f}\")\n",
    "print(f\"Loss: {best_loss:.6f}\")\n",
    "print(f\"axle distance: {(best_solution[0]/2*m) + (best_solution[1]/2*m)}\")"
   ]
  },
  {
   "cell_type": "code",
   "execution_count": 22,
   "id": "65d733ef",
   "metadata": {},
   "outputs": [],
   "source": [
    "#look up values in table on page 738 shigley's\n",
    "data = [\n",
    "    [12, 0.245],\n",
    "    [13, 0.261],\n",
    "    [14, 0.277],\n",
    "    [15, 0.290],\n",
    "    [16, 0.296],\n",
    "    [17, 0.303],\n",
    "    [18, 0.309],\n",
    "    [19, 0.314],\n",
    "    [20, 0.322],\n",
    "    [21, 0.328],\n",
    "    [22, 0.331],\n",
    "    [24, 0.337],\n",
    "    [26, 0.346],\n",
    "    [28, 0.353],\n",
    "    [30, 0.359],\n",
    "    [34, 0.371],\n",
    "    [38, 0.384],\n",
    "    [43, 0.397],\n",
    "    [50, 0.409],\n",
    "    [60, 0.422],\n",
    "    [75, 0.435],\n",
    "    [100, 0.447],\n",
    "    [150, 0.460],\n",
    "    [300, 0.472],\n",
    "    [400, 0.480],\n",
    "]\n",
    "\n",
    "Y_values = np.array(data)\n",
    "# print(Y_values)"
   ]
  },
  {
   "cell_type": "code",
   "execution_count": 35,
   "id": "9c65a71d",
   "metadata": {},
   "outputs": [
    {
     "name": "stdout",
     "output_type": "stream",
     "text": [
      "lewis bending stress (MPa): 219.97156757352826\n"
     ]
    }
   ],
   "source": [
    "# Lewis bending stress\n",
    "\n",
    "m = 1.5\n",
    "torque = 10 #Nm\n",
    "n_teeth = 20\n",
    "rpm = 5400\n",
    "F = 15 #mm\n",
    "Y = np.interp(n_teeth, Y_values[:,0], Y_values[:,1])\n",
    "\n",
    "radius = m*n_teeth/2 #mm\n",
    "Wt = torque / (radius/1000)\n",
    "vel = (radius/1000) * rpm * 2 * np.pi / 60 #m/sec\n",
    "Kv = (6.1 + vel) / 6.1\n",
    "\n",
    "bending_stress = (Kv * Wt) / (F * m * Y)\n",
    "print(f\"lewis bending stress (MPa): {bending_stress}\")"
   ]
  },
  {
   "cell_type": "code",
   "execution_count": 31,
   "id": "bde09895",
   "metadata": {},
   "outputs": [
    {
     "name": "stdout",
     "output_type": "stream",
     "text": [
      "contact stress (MPa): 23.08616227338855\n"
     ]
    }
   ],
   "source": [
    "# contact stress\n",
    "\n",
    "m = 1.5\n",
    "torque = 5 #Nm\n",
    "n_teeth1 = 20\n",
    "n_teeth2 = 42\n",
    "rpm = 5400\n",
    "F = 15 #mm\n",
    "v_pois = .25 #poissons ratio\n",
    "E = 193*(10**9) #youngs modulus, Pa\n",
    "pressure_angle = np.deg2rad(20)\n",
    "\n",
    "radius = m * n_teeth1 /2 #mm\n",
    "Wt = torque / (radius/1000) #N\n",
    "vel = (radius/1000) * rpm * 2 * np.pi / 60 #m/sec\n",
    "Kv = (6.1 + vel) / 6.1\n",
    "\n",
    "r1 = n_teeth1 * m * np.sin(pressure_angle) / 2\n",
    "r2 = n_teeth2 * m * np.sin(pressure_angle) / 2\n",
    "\n",
    "Cp = np.sqrt(1 / (np.pi*((1-v_pois**2)*2)/E))\n",
    "\n",
    "contact_stress = Cp * np.sqrt((Kv * Wt) / (F/1000 * np.cos(pressure_angle)) * ((1/r1) + (1/r2)))\n",
    "print(f\"contact stress (MPa): {contact_stress/(10**6)}\")"
   ]
  },
  {
   "cell_type": "code",
   "execution_count": null,
   "id": "7c40c3ea",
   "metadata": {},
   "outputs": [],
   "source": []
  }
 ],
 "metadata": {
  "kernelspec": {
   "display_name": ".venv",
   "language": "python",
   "name": "python3"
  },
  "language_info": {
   "codemirror_mode": {
    "name": "ipython",
    "version": 3
   },
   "file_extension": ".py",
   "mimetype": "text/x-python",
   "name": "python",
   "nbconvert_exporter": "python",
   "pygments_lexer": "ipython3",
   "version": "3.13.3"
  }
 },
 "nbformat": 4,
 "nbformat_minor": 5
}
