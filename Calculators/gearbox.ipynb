{
 "cells": [
  {
   "cell_type": "code",
   "execution_count": 2,
   "id": "a202f161",
   "metadata": {},
   "outputs": [],
   "source": [
    "import numpy as np"
   ]
  },
  {
   "cell_type": "code",
   "execution_count": null,
   "id": "69bd320e",
   "metadata": {},
   "outputs": [
    {
     "name": "stdout",
     "output_type": "stream",
     "text": [
      "[41.93548387 88.06451613 61.9047619  68.0952381 ]\n"
     ]
    }
   ],
   "source": [
    "# 25 tooth output\n",
    "ratio1 = 2.1\n",
    "ratio2 = 1.1\n",
    "ratio_matrix = np.array([[ratio1, -1, 0, 0], [0, 0, ratio2, -1], [.5, .5, 0, 0], [0, 0, .5, .5]])\n",
    "\n",
    "shaft_distance = 65 #mm\n",
    "shaft_distance_matrix = np.array([0, 0, shaft_distance, shaft_distance])\n",
    "\n",
    "gear_diameters = np.linalg.solve(ratio_matrix, shaft_distance_matrix)\n",
    "# gear_diameters is input1, output1, input2, output2 in same units as shaft distance\n",
    "print(gear_diameters)"
   ]
  },
  {
   "cell_type": "code",
   "execution_count": 18,
   "id": "7ca32982",
   "metadata": {},
   "outputs": [
    {
     "name": "stdout",
     "output_type": "stream",
     "text": [
      "[44.44444444 75.55555556 63.15789474 56.84210526]\n"
     ]
    }
   ],
   "source": [
    "# 21 tooth output\n",
    "ratio1 = 1.7\n",
    "ratio2 = .9\n",
    "ratio_matrix = np.array([[ratio1, -1, 0, 0], [0, 0, ratio2, -1], [.5, .5, 0, 0], [0, 0, .5, .5]])\n",
    "\n",
    "shaft_distance = 60 #mm \n",
    "shaft_distance_matrix = np.array([0, 0, shaft_distance, shaft_distance])\n",
    "\n",
    "gear_diameters = np.linalg.solve(ratio_matrix, shaft_distance_matrix)\n",
    "# gear_diameters is input1, output1, input2, output2 in same units as shaft distance\n",
    "print(gear_diameters)"
   ]
  },
  {
   "cell_type": "code",
   "execution_count": null,
   "id": "d15f2db7",
   "metadata": {},
   "outputs": [
    {
     "name": "stdout",
     "output_type": "stream",
     "text": [
      "[16.         36.         23.11111111 28.88888889]\n"
     ]
    }
   ],
   "source": [
    "# teeth calcs\n",
    "\n",
    "#parameters\n",
    "target_ratio_1 = 1.75\n",
    "target_ratio_2 = .9\n",
    "\n",
    "#constraints\n",
    "Ni1 = 16\n",
    "# all teeth numbers in order Ni1, N01, Ni2, No2, must be integers\n",
    "\n",
    "#teeth numbers found with this equation\n",
    "teeth_ratio_matrix = np.array([[1, 1, -1, -1], [target_ratio_1, -1, 0, 0], [0, 0, target_ratio_2, -1], [1, 0, 0, 0]])\n",
    "b = np.array([0, 0, 0, Ni1])\n",
    "teeth = np.linalg.solve(teeth_ratio_matrix, b)\n",
    "\n",
    "def loss(ratio1, ratio2, target_ratio1, target_ratio2):\n",
    "    return np.linalg.norm(ratio1-target_ratio1) + np.linalg.norm(ratio2-target_ratio2)\n"
   ]
  },
  {
   "cell_type": "code",
   "execution_count": null,
   "id": "e519a319",
   "metadata": {},
   "outputs": [
    {
     "name": "stdout",
     "output_type": "stream",
     "text": [
      "Best solution: Ni1=16, No1=28, Ni2=23, No2=21\n",
      "Ratios: 1.7500, 0.9130\n",
      "Loss: 0.013043\n"
     ]
    }
   ],
   "source": [
    "#come back to a program like this but reformulate with a known axle to axle distance\n",
    "\n",
    "# Target ratios\n",
    "target_ratio_1 = 1.75\n",
    "target_ratio_2 = 0.9\n",
    "\n",
    "# Fixed value\n",
    "Ni1 = 16\n",
    "\n",
    "# Search range\n",
    "search_range = range(10, 100)\n",
    "\n",
    "best_loss = float('inf')\n",
    "best_solution = None\n",
    "\n",
    "for No1 in search_range:\n",
    "    ratio1 = No1 / Ni1\n",
    "    for Ni2 in search_range:\n",
    "        for No2 in search_range:\n",
    "            # Gear train constraint: Ni1 + No1 == Ni2 + No2\n",
    "            if Ni1 + No1 != Ni2 + No2:\n",
    "                continue\n",
    "\n",
    "            ratio2 = No2 / Ni2\n",
    "            loss = abs(ratio1 - target_ratio_1) + abs(ratio2 - target_ratio_2)\n",
    "            if loss < best_loss:\n",
    "                best_loss = loss\n",
    "                best_solution = (Ni1, No1, Ni2, No2)\n",
    "\n",
    "print(f\"Best solution: Ni1={best_solution[0]}, No1={best_solution[1]}, Ni2={best_solution[2]}, No2={best_solution[3]}\")\n",
    "print(f\"Ratios: {best_solution[1]/best_solution[0]:.4f}, {best_solution[3]/best_solution[2]:.4f}\")\n",
    "print(f\"Loss: {best_loss:.6f}\")\n"
   ]
  },
  {
   "cell_type": "code",
   "execution_count": null,
   "id": "9c65a71d",
   "metadata": {},
   "outputs": [],
   "source": []
  }
 ],
 "metadata": {
  "kernelspec": {
   "display_name": ".venv",
   "language": "python",
   "name": "python3"
  },
  "language_info": {
   "codemirror_mode": {
    "name": "ipython",
    "version": 3
   },
   "file_extension": ".py",
   "mimetype": "text/x-python",
   "name": "python",
   "nbconvert_exporter": "python",
   "pygments_lexer": "ipython3",
   "version": "3.13.3"
  }
 },
 "nbformat": 4,
 "nbformat_minor": 5
}
