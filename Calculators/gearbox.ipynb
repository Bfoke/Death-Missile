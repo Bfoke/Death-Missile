{
 "cells": [
  {
   "cell_type": "code",
   "execution_count": 1,
   "id": "a202f161",
   "metadata": {},
   "outputs": [],
   "source": [
    "import numpy as np"
   ]
  },
  {
   "cell_type": "code",
   "execution_count": null,
   "id": "69bd320e",
   "metadata": {},
   "outputs": [
    {
     "name": "stdout",
     "output_type": "stream",
     "text": [
      "[41.93548387 88.06451613 61.9047619  68.0952381 ]\n"
     ]
    }
   ],
   "source": [
    "# 25 tooth output\n",
    "ratio1 = 2.1\n",
    "ratio2 = 1.1\n",
    "ratio_matrix = np.array([[ratio1, -1, 0, 0], [0, 0, ratio2, -1], [.5, .5, 0, 0], [0, 0, .5, .5]])\n",
    "\n",
    "shaft_distance = 65 #mm\n",
    "shaft_distance_matrix = np.array([0, 0, shaft_distance, shaft_distance])\n",
    "\n",
    "gear_diameters = np.linalg.solve(ratio_matrix, shaft_distance_matrix)\n",
    "# gear_diameters is input1, output1, input2, output2 in same units as shaft distance\n",
    "print(gear_diameters)"
   ]
  },
  {
   "cell_type": "code",
   "execution_count": 18,
   "id": "7ca32982",
   "metadata": {},
   "outputs": [
    {
     "name": "stdout",
     "output_type": "stream",
     "text": [
      "[44.44444444 75.55555556 63.15789474 56.84210526]\n"
     ]
    }
   ],
   "source": [
    "# 21 tooth output\n",
    "ratio1 = 1.7\n",
    "ratio2 = .9\n",
    "ratio_matrix = np.array([[ratio1, -1, 0, 0], [0, 0, ratio2, -1], [.5, .5, 0, 0], [0, 0, .5, .5]])\n",
    "\n",
    "shaft_distance = 60 #mm \n",
    "shaft_distance_matrix = np.array([0, 0, shaft_distance, shaft_distance])\n",
    "\n",
    "gear_diameters = np.linalg.solve(ratio_matrix, shaft_distance_matrix)\n",
    "# gear_diameters is input1, output1, input2, output2 in same units as shaft distance\n",
    "print(gear_diameters)"
   ]
  },
  {
   "cell_type": "code",
   "execution_count": null,
   "id": "d15f2db7",
   "metadata": {},
   "outputs": [],
   "source": []
  }
 ],
 "metadata": {
  "kernelspec": {
   "display_name": ".venv",
   "language": "python",
   "name": "python3"
  },
  "language_info": {
   "codemirror_mode": {
    "name": "ipython",
    "version": 3
   },
   "file_extension": ".py",
   "mimetype": "text/x-python",
   "name": "python",
   "nbconvert_exporter": "python",
   "pygments_lexer": "ipython3",
   "version": "3.13.3"
  }
 },
 "nbformat": 4,
 "nbformat_minor": 5
}
