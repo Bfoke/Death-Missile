{
 "cells": [
  {
   "cell_type": "code",
   "execution_count": 2,
   "id": "0027c1c4",
   "metadata": {},
   "outputs": [],
   "source": [
    "import numpy as np\n",
    "import matplotlib.pyplot as plt"
   ]
  },
  {
   "cell_type": "code",
   "execution_count": null,
   "id": "664a2073",
   "metadata": {},
   "outputs": [],
   "source": [
    "# define chassis pickup points\n",
    "\n",
    "# F/R - front/rear of car\n",
    "# r/l - right/left\n",
    "# U/L - upper/lower\n",
    "# 1/2/3 - 1=front/2=rear/3=upright of the specific wishbone\n",
    "\n",
    "# Should make control arm and upright classes to make this easier\n",
    "\n",
    "# front right corner\n",
    "FrU1 = np.array([1,0,0])\n",
    "FrU2 = np.array([0,0,0])\n",
    "FrU3 = np.array([.5,-.5,0])\n",
    "\n",
    "# front right upright\n",
    "joint_dist = .5\n",
    "# define coords for ball joints and toe link so u can apply the same axis/ rotation checks to find \n",
    "# how far the upright rotated\n",
    "# also define axle somehow to do same kind of math for wheel angles"
   ]
  },
  {
   "cell_type": "code",
   "execution_count": null,
   "id": "ccefbf66",
   "metadata": {},
   "outputs": [],
   "source": [
    "# axis of rotation\n",
    "def axis_of_rot(p1: np.array,p2: np.array):\n",
    "    vec = p1 - p2\n",
    "    mag = np.linalg.norm(vec)\n",
    "\n",
    "    if mag == 0:\n",
    "        raise ValueError(\"axis_of_rot unit vec length = 0\")\n",
    "    \n",
    "    unit_vec = vec / mag\n",
    "    return unit_vec\n",
    "\n",
    "# rotate a point about an axis\n",
    "def rotation_about_axis(point, axis_point1, axis_point2, theta):\n",
    "    # Step 1: Get the unit vector of the axis\n",
    "    axis = axis_of_rot(axis_point1, axis_point2)\n",
    "\n",
    "    # Step 2: Translate the point so axis_point1 becomes the origin\n",
    "    translated_point = point - axis_point1\n",
    "\n",
    "    # Step 3: Build the rotation matrix using Rodrigues' rotation formula\n",
    "    ux, uy, uz = axis\n",
    "    cos_t = np.cos(theta)\n",
    "    sin_t = np.sin(theta)\n",
    "    one_minus_cos = 1 - cos_t\n",
    "\n",
    "    R = np.array([\n",
    "        [cos_t + ux**2 * one_minus_cos,\n",
    "         ux * uy * one_minus_cos - uz * sin_t,\n",
    "         ux * uz * one_minus_cos + uy * sin_t],\n",
    "\n",
    "        [uy * ux * one_minus_cos + uz * sin_t,\n",
    "         cos_t + uy**2 * one_minus_cos,\n",
    "         uy * uz * one_minus_cos - ux * sin_t],\n",
    "\n",
    "        [uz * ux * one_minus_cos - uy * sin_t,\n",
    "         uz * uy * one_minus_cos + ux * sin_t,\n",
    "         cos_t + uz**2 * one_minus_cos]\n",
    "    ])\n",
    "\n",
    "    # Step 4: Rotate the translated point\n",
    "    rotated_translated_point = R @ translated_point\n",
    "\n",
    "    # Step 5: Translate back to the original coordinate system\n",
    "    rotated_point = rotated_translated_point + axis_point1\n",
    "\n",
    "    return rotated_point"
   ]
  }
 ],
 "metadata": {
  "kernelspec": {
   "display_name": ".venv",
   "language": "python",
   "name": "python3"
  },
  "language_info": {
   "codemirror_mode": {
    "name": "ipython",
    "version": 3
   },
   "file_extension": ".py",
   "mimetype": "text/x-python",
   "name": "python",
   "nbconvert_exporter": "python",
   "pygments_lexer": "ipython3",
   "version": "3.13.3"
  }
 },
 "nbformat": 4,
 "nbformat_minor": 5
}
