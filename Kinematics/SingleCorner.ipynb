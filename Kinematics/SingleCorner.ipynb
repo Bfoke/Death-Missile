{
 "cells": [
  {
   "cell_type": "code",
   "execution_count": null,
   "id": "0027c1c4",
   "metadata": {},
   "outputs": [],
   "source": [
    "import numpy as np\n",
    "import matplotlib.pyplot as plt"
   ]
  },
  {
   "cell_type": "code",
   "execution_count": null,
   "id": "664a2073",
   "metadata": {},
   "outputs": [],
   "source": []
  }
 ],
 "metadata": {
  "language_info": {
   "name": "python"
  }
 },
 "nbformat": 4,
 "nbformat_minor": 5
}
