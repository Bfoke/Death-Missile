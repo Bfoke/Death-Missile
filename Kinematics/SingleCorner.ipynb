{
 "cells": [
  {
   "cell_type": "code",
   "execution_count": 14,
   "id": "0027c1c4",
   "metadata": {},
   "outputs": [],
   "source": [
    "import numpy as np\n",
    "import matplotlib.pyplot as plt\n",
    "from SuspensionParts import Wishbone\n",
    "from SuspensionParts import Upright"
   ]
  },
  {
   "cell_type": "code",
   "execution_count": null,
   "id": "664a2073",
   "metadata": {},
   "outputs": [],
   "source": [
    "# define chassis pickup points\n",
    "# origin at center of rear axle on ground\n",
    "# F/R - front/rear of car\n",
    "# r/l - right/left\n",
    "# U/L - upper/lower\n",
    "# 1/2/3 - 1=front/2=rear/3=upright of the specific wishbone\n",
    "\n",
    "# Should make control arm and upright classes to make this easier\n",
    "\n",
    "x1 = np.array([1,0,0])\n",
    "x2 = np.array([0,0,0])\n",
    "x3 = np.array([.5,-.5,0])\n",
    "\n",
    "test_wishbone = Wishbone(x1, x2, x3)\n",
    "\n",
    "# front right corner\n",
    "# upper\n",
    "FrU1 = np.array([1.9,-.4,.4])\n",
    "FrU2 = np.array([1.7,-.4,.4])\n",
    "FrU3 = np.array([1.8,-.6,.4])\n",
    "\n",
    "# lower\n",
    "FrL1 = np.array([1.9,-.4,.2])\n",
    "FrL2 = np.array([1.7,-.4,.2])\n",
    "FrL3 = np.array([1.8,-.6,.2])\n",
    "\n",
    "FR_upper = Wishbone(FrU1, FrU2, FrU3)\n",
    "FR_lower = Wishbone(FrL1, FrL2, FrL3)\n",
    "\n",
    "\n",
    "# front right upright\n",
    "joint_dist = .5\n",
    "# define coords for ball joints and toe link so u can apply the same axis/ rotation checks to find \n",
    "# how far the upright rotated\n",
    "# also define axle somehow to do same kind of math for wheel angles"
   ]
  },
  {
   "cell_type": "code",
   "execution_count": 16,
   "id": "ccefbf66",
   "metadata": {},
   "outputs": [
    {
     "name": "stdout",
     "output_type": "stream",
     "text": [
      "1.5707963267948966\n",
      "[ 1.8 -0.4  0.2]\n"
     ]
    }
   ],
   "source": [
    "theta = np.deg2rad(90)\n",
    "print(theta)\n",
    "\n",
    "print(FR_upper.rotation(theta))"
   ]
  },
  {
   "cell_type": "code",
   "execution_count": null,
   "id": "9b86ae87",
   "metadata": {},
   "outputs": [],
   "source": []
  }
 ],
 "metadata": {
  "kernelspec": {
   "display_name": ".venv",
   "language": "python",
   "name": "python3"
  },
  "language_info": {
   "codemirror_mode": {
    "name": "ipython",
    "version": 3
   },
   "file_extension": ".py",
   "mimetype": "text/x-python",
   "name": "python",
   "nbconvert_exporter": "python",
   "pygments_lexer": "ipython3",
   "version": "3.13.3"
  }
 },
 "nbformat": 4,
 "nbformat_minor": 5
}
