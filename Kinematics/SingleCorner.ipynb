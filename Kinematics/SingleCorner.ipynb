{
 "cells": [
  {
   "cell_type": "code",
   "execution_count": 50,
   "id": "0027c1c4",
   "metadata": {},
   "outputs": [],
   "source": [
    "import numpy as np\n",
    "import matplotlib.pyplot as plt\n",
    "from SuspensionParts import Wishbone\n",
    "from SuspensionParts import Upright"
   ]
  },
  {
   "cell_type": "code",
   "execution_count": 51,
   "id": "664a2073",
   "metadata": {},
   "outputs": [],
   "source": [
    "# define chassis pickup points\n",
    "# origin at center of rear axle on ground\n",
    "# F/R - front/rear of car\n",
    "# r/l - right/left\n",
    "# U/L - upper/lower\n",
    "# 1/2/3 - 1=front/2=rear/3=upright of the specific wishbone\n",
    "\n",
    "# Should make control arm and upright classes to make this easier\n",
    "\n",
    "x1 = np.array([1,0,0])\n",
    "x2 = np.array([0,0,0])\n",
    "x3 = np.array([.5,-.5,0])\n",
    "\n",
    "test_wishbone = Wishbone(x1, x2, x3)\n",
    "\n",
    "# front right corner\n",
    "# upper\n",
    "FrU1 = np.array([1.9,-.4,.4])\n",
    "FrU2 = np.array([1.7,-.4,.4])\n",
    "FrU3 = np.array([1.8,-.6,.4])\n",
    "\n",
    "# lower\n",
    "FrL1 = np.array([1.9,-.4,.2])\n",
    "FrL2 = np.array([1.7,-.4,.2])\n",
    "FrL3 = np.array([1.8,-.6,.2])\n",
    "\n",
    "FR_upper = Wishbone(FrU1, FrU2, FrU3)\n",
    "FR_lower = Wishbone(FrL1, FrL2, FrL3)\n",
    "\n",
    "\n",
    "# front right upright\n",
    "joint_dist = .5\n",
    "# define coords for ball joints and toe link so u can apply the same axis/ rotation checks to find \n",
    "# how far the upright rotated\n",
    "# also define axle somehow to do same kind of math for wheel angles"
   ]
  },
  {
   "cell_type": "code",
   "execution_count": 52,
   "id": "ccefbf66",
   "metadata": {},
   "outputs": [
    {
     "name": "stdout",
     "output_type": "stream",
     "text": [
      "[ 1.8 -0.4  0.6]\n",
      "[ 5.000000e-01 -3.061617e-17  5.000000e-01]\n"
     ]
    }
   ],
   "source": [
    "theta = np.deg2rad(-90)\n",
    "# print(theta)\n",
    "print(FR_upper.rotation(theta))\n",
    "print(test_wishbone.rotation(theta))"
   ]
  },
  {
   "cell_type": "code",
   "execution_count": 53,
   "id": "9b86ae87",
   "metadata": {},
   "outputs": [
    {
     "ename": "AttributeError",
     "evalue": "'Wishbone' object has no attribute 'state'",
     "output_type": "error",
     "traceback": [
      "\u001b[31m---------------------------------------------------------------------------\u001b[39m",
      "\u001b[31mAttributeError\u001b[39m                            Traceback (most recent call last)",
      "\u001b[36mCell\u001b[39m\u001b[36m \u001b[39m\u001b[32mIn[53]\u001b[39m\u001b[32m, line 9\u001b[39m\n\u001b[32m      6\u001b[39m balljoint_pos = np.zeros((steps, \u001b[32m3\u001b[39m))  \n\u001b[32m      8\u001b[39m \u001b[38;5;28;01mfor\u001b[39;00m i \u001b[38;5;129;01min\u001b[39;00m \u001b[38;5;28mrange\u001b[39m(steps):\n\u001b[32m----> \u001b[39m\u001b[32m9\u001b[39m     balljoint_pos[i] = \u001b[43mtest_wishbone\u001b[49m\u001b[43m.\u001b[49m\u001b[43mstate\u001b[49m()  \n\u001b[32m     10\u001b[39m     test_wishbone.rotation(dtheta)            \n\u001b[32m     11\u001b[39m     theta_total += dtheta     \n",
      "\u001b[31mAttributeError\u001b[39m: 'Wishbone' object has no attribute 'state'"
     ]
    }
   ],
   "source": [
    "dtheta = np.deg2rad(0.5)\n",
    "theta_total = 0\n",
    "max_angle = np.deg2rad(90)         \n",
    "steps = int(max_angle / dtheta)    \n",
    "\n",
    "balljoint_pos = np.zeros((steps, 3))  \n",
    "\n",
    "for i in range(steps):\n",
    "    balljoint_pos[i] = test_wishbone.state()  \n",
    "    test_wishbone.rotation(dtheta)            \n",
    "    theta_total += dtheta     "
   ]
  },
  {
   "cell_type": "code",
   "execution_count": null,
   "id": "502b72ad",
   "metadata": {},
   "outputs": [],
   "source": []
  }
 ],
 "metadata": {
  "kernelspec": {
   "display_name": ".venv",
   "language": "python",
   "name": "python3"
  },
  "language_info": {
   "codemirror_mode": {
    "name": "ipython",
    "version": 3
   },
   "file_extension": ".py",
   "mimetype": "text/x-python",
   "name": "python",
   "nbconvert_exporter": "python",
   "pygments_lexer": "ipython3",
   "version": "3.13.3"
  }
 },
 "nbformat": 4,
 "nbformat_minor": 5
}
